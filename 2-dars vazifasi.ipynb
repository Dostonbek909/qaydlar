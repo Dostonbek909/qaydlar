{
 "cells": [
  {
   "cell_type": "markdown",
   "metadata": {},
   "source": [
    "2-dars uyga vazifa"
   ]
  },
  {
   "cell_type": "code",
   "execution_count": null,
   "metadata": {},
   "outputs": [],
   "source": [
    "b=int(input('Istalgan sonni kiriting:'))\n",
    "d=int(input('Istalgan drajani kiriting:'))\n",
    "print(b**d)"
   ]
  },
  {
   "cell_type": "code",
   "execution_count": null,
   "metadata": {},
   "outputs": [],
   "source": [
    "a=3\n",
    "print(type(a))\n",
    "b=3.4\n",
    "print(type(b))\n",
    "c='uzbek'\n",
    "print(type(c))\n",
    "\n",
    "#men shu yerda hammasiga alohida print yozmasdan ohirida bittada natijani olmoqchi edim error berdi, shuni bittada olish code bormi?\n"
   ]
  },
  {
   "cell_type": "code",
   "execution_count": null,
   "metadata": {},
   "outputs": [],
   "source": [
    "q='Andijon'\n",
    "print(q[:2]+q[5:]) #bu yerda \"q\" ichidagi xarflarni sonini aniqlash mumkinmi?"
   ]
  },
  {
   "cell_type": "code",
   "execution_count": null,
   "metadata": {},
   "outputs": [],
   "source": [
    "w='universitet'\n",
    "print(w[:4])"
   ]
  },
  {
   "cell_type": "code",
   "execution_count": null,
   "metadata": {},
   "outputs": [],
   "source": [
    "f=7\n",
    "g=5\n",
    "print(7%5)"
   ]
  },
  {
   "cell_type": "markdown",
   "metadata": {},
   "source": [
    "ixtiyoriy vazifa"
   ]
  },
  {
   "cell_type": "code",
   "execution_count": null,
   "metadata": {},
   "outputs": [],
   "source": [
    "h=98\n",
    "onlik=h//10\n",
    "birlik=h%10\n",
    "raqamlar_qoshilganda=onlik+birlik\n",
    "c=raqamlar_qoshilganda\n",
    "print((h)+\" ning raqamlari yig'indisi \" +(c)+\"ga teng\")\n",
    "\n",
    "# shu yergacha yozdim, lekin print qilishda hatolik deyabdi!\n"
   ]
  }
 ],
 "metadata": {
  "kernelspec": {
   "display_name": "Python 3",
   "language": "python",
   "name": "python3"
  },
  "language_info": {
   "codemirror_mode": {
    "name": "ipython",
    "version": 3
   },
   "file_extension": ".py",
   "mimetype": "text/x-python",
   "name": "python",
   "nbconvert_exporter": "python",
   "pygments_lexer": "ipython3",
   "version": "3.12.3"
  }
 },
 "nbformat": 4,
 "nbformat_minor": 2
}
