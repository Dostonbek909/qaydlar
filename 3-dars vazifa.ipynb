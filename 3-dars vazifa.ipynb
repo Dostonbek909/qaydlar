{
 "cells": [
  {
   "cell_type": "markdown",
   "metadata": {},
   "source": [
    "Vazifa"
   ]
  },
  {
   "cell_type": "code",
   "execution_count": 27,
   "metadata": {},
   "outputs": [
    {
     "name": "stdout",
     "output_type": "stream",
     "text": [
      "Kirish mumkin\n"
     ]
    }
   ],
   "source": [
    "parol=2468\n",
    "if parol==2468:\n",
    "    print('Kirish mumkin')\n",
    "else:\n",
    "    print(\"Parol noto'g'i\")\n",
    "    "
   ]
  },
  {
   "cell_type": "code",
   "execution_count": 40,
   "metadata": {},
   "outputs": [
    {
     "name": "stdout",
     "output_type": "stream",
     "text": [
      "Parolni qayta kiriting\n"
     ]
    }
   ],
   "source": [
    "paroll=str(input('Parolni kiriting'))\n",
    "if paroll==123456:\n",
    "    print(\"Parol to'g'ri kiritilgan\")\n",
    "else:\n",
    "    print('Parolni qayta kiriting')"
   ]
  },
  {
   "cell_type": "code",
   "execution_count": 10,
   "metadata": {},
   "outputs": [
    {
     "name": "stdout",
     "output_type": "stream",
     "text": [
      "Parolga yaqinlashdingiz\n"
     ]
    }
   ],
   "source": [
    "parol2=int(input('Parolni kiriting'))\n",
    "if parol2==123456:\n",
    "    print(\"Parol to'g'ri kiritilgan\")\n",
    "elif parol2==1234567:\n",
    "    print('Parolga yaqinlashdingiz')\n",
    "else:\n",
    "    print('Parolni qayta kiriting')"
   ]
  },
  {
   "cell_type": "code",
   "execution_count": 8,
   "metadata": {},
   "outputs": [
    {
     "name": "stdout",
     "output_type": "stream",
     "text": [
      "Alo\n",
      "O'quvchi bilimini faqat 5 gacha baholash mumkin\n"
     ]
    }
   ],
   "source": [
    "a=int(input(\"O'quvchi olgan bahoni kiriting: \"))\n",
    "if a==5:\n",
    "    print('Alo')\n",
    "elif a==4:\n",
    "    print('Yaxshi')\n",
    "elif a==3:\n",
    "    print(\"O'rta\")\n",
    "elif a==2:\n",
    "    print('Tugabsanku')\n",
    "else:\n",
    "    print(\"O'quvchi bilimini faqat 5 gacha baholash mumkin\")   "
   ]
  },
  {
   "cell_type": "code",
   "execution_count": 3,
   "metadata": {},
   "outputs": [
    {
     "name": "stdout",
     "output_type": "stream",
     "text": [
      "Xatolik bor\n"
     ]
    }
   ],
   "source": [
    "d=int(input('Istalgan sonni kiriting: '))\n",
    "if d>0 and d%2==0 and d%3==0:\n",
    "    print('Kiritilgan son 6 ga karrali')\n",
    "else:\n",
    "    print('Xatolik bor')"
   ]
  },
  {
   "cell_type": "code",
   "execution_count": null,
   "metadata": {},
   "outputs": [],
   "source": []
  }
 ],
 "metadata": {
  "kernelspec": {
   "display_name": "Python 3",
   "language": "python",
   "name": "python3"
  },
  "language_info": {
   "codemirror_mode": {
    "name": "ipython",
    "version": 3
   },
   "file_extension": ".py",
   "mimetype": "text/x-python",
   "name": "python",
   "nbconvert_exporter": "python",
   "pygments_lexer": "ipython3",
   "version": "3.12.3"
  }
 },
 "nbformat": 4,
 "nbformat_minor": 2
}
