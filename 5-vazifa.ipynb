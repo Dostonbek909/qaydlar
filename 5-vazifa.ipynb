{
 "cells": [
  {
   "cell_type": "markdown",
   "metadata": {},
   "source": [
    "Uyga vazifa"
   ]
  },
  {
   "cell_type": "code",
   "execution_count": 1,
   "metadata": {},
   "outputs": [],
   "source": [
    "import pandas as pd\n",
    "import numpy as np\n",
    "import seaborn as sbs"
   ]
  },
  {
   "cell_type": "code",
   "execution_count": 2,
   "metadata": {},
   "outputs": [],
   "source": [
    "# datani vs ga olish\n",
    "df=pd.read_csv('earthquakes.csv')"
   ]
  },
  {
   "cell_type": "code",
   "execution_count": 3,
   "metadata": {},
   "outputs": [
    {
     "data": {
      "text/html": [
       "<div>\n",
       "<style scoped>\n",
       "    .dataframe tbody tr th:only-of-type {\n",
       "        vertical-align: middle;\n",
       "    }\n",
       "\n",
       "    .dataframe tbody tr th {\n",
       "        vertical-align: top;\n",
       "    }\n",
       "\n",
       "    .dataframe thead th {\n",
       "        text-align: right;\n",
       "    }\n",
       "</style>\n",
       "<table border=\"1\" class=\"dataframe\">\n",
       "  <thead>\n",
       "    <tr style=\"text-align: right;\">\n",
       "      <th></th>\n",
       "      <th>time</th>\n",
       "      <th>latitude</th>\n",
       "      <th>longitude</th>\n",
       "      <th>depth</th>\n",
       "      <th>mag</th>\n",
       "      <th>magType</th>\n",
       "      <th>nst</th>\n",
       "      <th>gap</th>\n",
       "      <th>dmin</th>\n",
       "      <th>rms</th>\n",
       "      <th>...</th>\n",
       "      <th>place</th>\n",
       "      <th>type</th>\n",
       "      <th>horizontalError</th>\n",
       "      <th>depthError</th>\n",
       "      <th>magError</th>\n",
       "      <th>magNst</th>\n",
       "      <th>status</th>\n",
       "      <th>locationSource</th>\n",
       "      <th>magSource</th>\n",
       "      <th>Alert</th>\n",
       "    </tr>\n",
       "  </thead>\n",
       "  <tbody>\n",
       "    <tr>\n",
       "      <th>0</th>\n",
       "      <td>1976-03-25 00:41:20.500000+00:00</td>\n",
       "      <td>35.590000</td>\n",
       "      <td>-90.480000</td>\n",
       "      <td>15.000</td>\n",
       "      <td>4.62</td>\n",
       "      <td>mw</td>\n",
       "      <td>NaN</td>\n",
       "      <td>NaN</td>\n",
       "      <td>NaN</td>\n",
       "      <td>NaN</td>\n",
       "      <td>...</td>\n",
       "      <td>8 km NW of Marked Tree, Arkansas</td>\n",
       "      <td>earthquake</td>\n",
       "      <td>NaN</td>\n",
       "      <td>NaN</td>\n",
       "      <td>NaN</td>\n",
       "      <td>0.0</td>\n",
       "      <td>reviewed</td>\n",
       "      <td>nm</td>\n",
       "      <td>nm</td>\n",
       "      <td>green</td>\n",
       "    </tr>\n",
       "    <tr>\n",
       "      <th>1</th>\n",
       "      <td>1979-10-16 06:58:43.450000+00:00</td>\n",
       "      <td>32.998667</td>\n",
       "      <td>-115.557500</td>\n",
       "      <td>14.190</td>\n",
       "      <td>5.80</td>\n",
       "      <td>ml</td>\n",
       "      <td>7.0</td>\n",
       "      <td>79.0</td>\n",
       "      <td>0.05768</td>\n",
       "      <td>0.17</td>\n",
       "      <td>...</td>\n",
       "      <td>3km NW of Brawley, CA</td>\n",
       "      <td>earthquake</td>\n",
       "      <td>1.03</td>\n",
       "      <td>1.78</td>\n",
       "      <td>NaN</td>\n",
       "      <td>0.0</td>\n",
       "      <td>reviewed</td>\n",
       "      <td>ci</td>\n",
       "      <td>ci</td>\n",
       "      <td>yellow</td>\n",
       "    </tr>\n",
       "    <tr>\n",
       "      <th>2</th>\n",
       "      <td>1980-07-27 18:52:21.600000+00:00</td>\n",
       "      <td>38.190000</td>\n",
       "      <td>-83.950000</td>\n",
       "      <td>10.000</td>\n",
       "      <td>5.00</td>\n",
       "      <td>md</td>\n",
       "      <td>NaN</td>\n",
       "      <td>NaN</td>\n",
       "      <td>NaN</td>\n",
       "      <td>NaN</td>\n",
       "      <td>...</td>\n",
       "      <td>2 km SW of Sharpsburg, Kentucky</td>\n",
       "      <td>earthquake</td>\n",
       "      <td>NaN</td>\n",
       "      <td>NaN</td>\n",
       "      <td>NaN</td>\n",
       "      <td>NaN</td>\n",
       "      <td>reviewed</td>\n",
       "      <td>se</td>\n",
       "      <td>se</td>\n",
       "      <td>green</td>\n",
       "    </tr>\n",
       "    <tr>\n",
       "      <th>3</th>\n",
       "      <td>1981-04-19 09:02:50.520000+00:00</td>\n",
       "      <td>35.816000</td>\n",
       "      <td>-117.816333</td>\n",
       "      <td>4.766</td>\n",
       "      <td>4.70</td>\n",
       "      <td>ml</td>\n",
       "      <td>13.0</td>\n",
       "      <td>135.0</td>\n",
       "      <td>NaN</td>\n",
       "      <td>0.66</td>\n",
       "      <td>...</td>\n",
       "      <td>16km SSE of Little Lake, CA</td>\n",
       "      <td>earthquake</td>\n",
       "      <td>2.51</td>\n",
       "      <td>31.61</td>\n",
       "      <td>0.424</td>\n",
       "      <td>9.0</td>\n",
       "      <td>reviewed</td>\n",
       "      <td>ci</td>\n",
       "      <td>ci</td>\n",
       "      <td>green</td>\n",
       "    </tr>\n",
       "    <tr>\n",
       "      <th>4</th>\n",
       "      <td>1981-04-26 12:09:28.290000+00:00</td>\n",
       "      <td>33.095500</td>\n",
       "      <td>-115.624500</td>\n",
       "      <td>18.904</td>\n",
       "      <td>5.75</td>\n",
       "      <td>ml</td>\n",
       "      <td>81.0</td>\n",
       "      <td>34.0</td>\n",
       "      <td>NaN</td>\n",
       "      <td>0.34</td>\n",
       "      <td>...</td>\n",
       "      <td>The 1981 Westmorland, California Earthquake</td>\n",
       "      <td>earthquake</td>\n",
       "      <td>0.56</td>\n",
       "      <td>0.67</td>\n",
       "      <td>0.161</td>\n",
       "      <td>6.0</td>\n",
       "      <td>reviewed</td>\n",
       "      <td>ci</td>\n",
       "      <td>ci</td>\n",
       "      <td>green</td>\n",
       "    </tr>\n",
       "  </tbody>\n",
       "</table>\n",
       "<p>5 rows × 23 columns</p>\n",
       "</div>"
      ],
      "text/plain": [
       "                               time   latitude   longitude   depth   mag  \\\n",
       "0  1976-03-25 00:41:20.500000+00:00  35.590000  -90.480000  15.000  4.62   \n",
       "1  1979-10-16 06:58:43.450000+00:00  32.998667 -115.557500  14.190  5.80   \n",
       "2  1980-07-27 18:52:21.600000+00:00  38.190000  -83.950000  10.000  5.00   \n",
       "3  1981-04-19 09:02:50.520000+00:00  35.816000 -117.816333   4.766  4.70   \n",
       "4  1981-04-26 12:09:28.290000+00:00  33.095500 -115.624500  18.904  5.75   \n",
       "\n",
       "  magType   nst    gap     dmin   rms  ...  \\\n",
       "0      mw   NaN    NaN      NaN   NaN  ...   \n",
       "1      ml   7.0   79.0  0.05768  0.17  ...   \n",
       "2      md   NaN    NaN      NaN   NaN  ...   \n",
       "3      ml  13.0  135.0      NaN  0.66  ...   \n",
       "4      ml  81.0   34.0      NaN  0.34  ...   \n",
       "\n",
       "                                         place        type horizontalError  \\\n",
       "0             8 km NW of Marked Tree, Arkansas  earthquake             NaN   \n",
       "1                        3km NW of Brawley, CA  earthquake            1.03   \n",
       "2              2 km SW of Sharpsburg, Kentucky  earthquake             NaN   \n",
       "3                  16km SSE of Little Lake, CA  earthquake            2.51   \n",
       "4  The 1981 Westmorland, California Earthquake  earthquake            0.56   \n",
       "\n",
       "  depthError magError  magNst    status  locationSource  magSource   Alert  \n",
       "0        NaN      NaN     0.0  reviewed              nm         nm   green  \n",
       "1       1.78      NaN     0.0  reviewed              ci         ci  yellow  \n",
       "2        NaN      NaN     NaN  reviewed              se         se   green  \n",
       "3      31.61    0.424     9.0  reviewed              ci         ci   green  \n",
       "4       0.67    0.161     6.0  reviewed              ci         ci   green  \n",
       "\n",
       "[5 rows x 23 columns]"
      ]
     },
     "execution_count": 3,
     "metadata": {},
     "output_type": "execute_result"
    }
   ],
   "source": [
    "df.head()"
   ]
  },
  {
   "cell_type": "code",
   "execution_count": 4,
   "metadata": {},
   "outputs": [
    {
     "name": "stdout",
     "output_type": "stream",
     "text": [
      "<class 'pandas.core.frame.DataFrame'>\n",
      "RangeIndex: 7717 entries, 0 to 7716\n",
      "Data columns (total 23 columns):\n",
      " #   Column           Non-Null Count  Dtype  \n",
      "---  ------           --------------  -----  \n",
      " 0   time             7717 non-null   object \n",
      " 1   latitude         7717 non-null   float64\n",
      " 2   longitude        7717 non-null   float64\n",
      " 3   depth            7717 non-null   float64\n",
      " 4   mag              7717 non-null   float64\n",
      " 5   magType          7717 non-null   object \n",
      " 6   nst              2404 non-null   float64\n",
      " 7   gap              7393 non-null   float64\n",
      " 8   dmin             7015 non-null   float64\n",
      " 9   rms              7691 non-null   float64\n",
      " 10  net              7717 non-null   object \n",
      " 11  id               7717 non-null   object \n",
      " 12  updated          7717 non-null   object \n",
      " 13  place            7717 non-null   object \n",
      " 14  type             7717 non-null   object \n",
      " 15  horizontalError  6499 non-null   float64\n",
      " 16  depthError       7508 non-null   float64\n",
      " 17  magError         5486 non-null   float64\n",
      " 18  magNst           5650 non-null   float64\n",
      " 19  status           7717 non-null   object \n",
      " 20  locationSource   7717 non-null   object \n",
      " 21  magSource        7717 non-null   object \n",
      " 22  Alert            7717 non-null   object \n",
      "dtypes: float64(12), object(11)\n",
      "memory usage: 1.4+ MB\n"
     ]
    }
   ],
   "source": [
    "df.info()"
   ]
  },
  {
   "cell_type": "code",
   "execution_count": 6,
   "metadata": {},
   "outputs": [
    {
     "data": {
      "text/plain": [
       "time                  0\n",
       "latitude              0\n",
       "longitude             0\n",
       "depth                 0\n",
       "mag                   0\n",
       "magType               0\n",
       "nst                5313\n",
       "gap                 324\n",
       "dmin                702\n",
       "rms                  26\n",
       "net                   0\n",
       "id                    0\n",
       "updated               0\n",
       "place                 0\n",
       "type                  0\n",
       "horizontalError    1218\n",
       "depthError          209\n",
       "magError           2231\n",
       "magNst             2067\n",
       "status                0\n",
       "locationSource        0\n",
       "magSource             0\n",
       "Alert                 0\n",
       "dtype: int64"
      ]
     },
     "execution_count": 6,
     "metadata": {},
     "output_type": "execute_result"
    }
   ],
   "source": [
    "df.isnull().sum()"
   ]
  },
  {
   "cell_type": "code",
   "execution_count": 8,
   "metadata": {},
   "outputs": [],
   "source": [
    "df.drop('nst', axis=1, inplace=True)"
   ]
  },
  {
   "cell_type": "code",
   "execution_count": 9,
   "metadata": {},
   "outputs": [
    {
     "name": "stdout",
     "output_type": "stream",
     "text": [
      "<class 'pandas.core.frame.DataFrame'>\n",
      "RangeIndex: 7717 entries, 0 to 7716\n",
      "Data columns (total 22 columns):\n",
      " #   Column           Non-Null Count  Dtype  \n",
      "---  ------           --------------  -----  \n",
      " 0   time             7717 non-null   object \n",
      " 1   latitude         7717 non-null   float64\n",
      " 2   longitude        7717 non-null   float64\n",
      " 3   depth            7717 non-null   float64\n",
      " 4   mag              7717 non-null   float64\n",
      " 5   magType          7717 non-null   object \n",
      " 6   gap              7393 non-null   float64\n",
      " 7   dmin             7015 non-null   float64\n",
      " 8   rms              7691 non-null   float64\n",
      " 9   net              7717 non-null   object \n",
      " 10  id               7717 non-null   object \n",
      " 11  updated          7717 non-null   object \n",
      " 12  place            7717 non-null   object \n",
      " 13  type             7717 non-null   object \n",
      " 14  horizontalError  6499 non-null   float64\n",
      " 15  depthError       7508 non-null   float64\n",
      " 16  magError         5486 non-null   float64\n",
      " 17  magNst           5650 non-null   float64\n",
      " 18  status           7717 non-null   object \n",
      " 19  locationSource   7717 non-null   object \n",
      " 20  magSource        7717 non-null   object \n",
      " 21  Alert            7717 non-null   object \n",
      "dtypes: float64(11), object(11)\n",
      "memory usage: 1.3+ MB\n"
     ]
    }
   ],
   "source": [
    "df.info()"
   ]
  },
  {
   "cell_type": "code",
   "execution_count": 10,
   "metadata": {},
   "outputs": [],
   "source": [
    "df.fillna(df['magError'].mean(), inplace=True)"
   ]
  },
  {
   "cell_type": "code",
   "execution_count": 11,
   "metadata": {},
   "outputs": [],
   "source": [
    "df.fillna(df['gap'].mean(), inplace=True)"
   ]
  },
  {
   "cell_type": "code",
   "execution_count": 12,
   "metadata": {},
   "outputs": [],
   "source": [
    "df.fillna(df['dmin'].mean(), inplace=True)"
   ]
  },
  {
   "cell_type": "code",
   "execution_count": 13,
   "metadata": {},
   "outputs": [],
   "source": [
    "df.fillna(df['rms'].mean(), inplace=True)"
   ]
  },
  {
   "cell_type": "code",
   "execution_count": 15,
   "metadata": {},
   "outputs": [],
   "source": [
    "df.fillna(df['horizontalError'].mean(), inplace=True)"
   ]
  },
  {
   "cell_type": "code",
   "execution_count": 16,
   "metadata": {},
   "outputs": [],
   "source": [
    "df.fillna(df['depthError'].mean(), inplace=True)"
   ]
  },
  {
   "cell_type": "code",
   "execution_count": 17,
   "metadata": {},
   "outputs": [],
   "source": [
    "df.fillna(df['magError'].mean(), inplace=True)"
   ]
  },
  {
   "cell_type": "code",
   "execution_count": 18,
   "metadata": {},
   "outputs": [],
   "source": [
    "df.fillna(df['magNst'].mean(), inplace=True) # bu code orqali kamchiligi bo'lgan datalarni to'ldirib oldik"
   ]
  },
  {
   "cell_type": "code",
   "execution_count": 20,
   "metadata": {},
   "outputs": [
    {
     "data": {
      "text/plain": [
       "time               0\n",
       "latitude           0\n",
       "longitude          0\n",
       "depth              0\n",
       "mag                0\n",
       "magType            0\n",
       "gap                0\n",
       "dmin               0\n",
       "rms                0\n",
       "net                0\n",
       "id                 0\n",
       "updated            0\n",
       "place              0\n",
       "type               0\n",
       "horizontalError    0\n",
       "depthError         0\n",
       "magError           0\n",
       "magNst             0\n",
       "status             0\n",
       "locationSource     0\n",
       "magSource          0\n",
       "Alert              0\n",
       "dtype: int64"
      ]
     },
     "execution_count": 20,
     "metadata": {},
     "output_type": "execute_result"
    }
   ],
   "source": [
    "df.isnull().sum()"
   ]
  },
  {
   "cell_type": "code",
   "execution_count": 21,
   "metadata": {},
   "outputs": [],
   "source": [
    "df.fillna(df['time'].mode()[0],inplace=True) #bu code orqali matnli datalarni to'ldirib oldik"
   ]
  },
  {
   "cell_type": "code",
   "execution_count": 22,
   "metadata": {},
   "outputs": [
    {
     "name": "stdout",
     "output_type": "stream",
     "text": [
      "<class 'pandas.core.frame.DataFrame'>\n",
      "RangeIndex: 7717 entries, 0 to 7716\n",
      "Data columns (total 22 columns):\n",
      " #   Column           Non-Null Count  Dtype  \n",
      "---  ------           --------------  -----  \n",
      " 0   time             7717 non-null   object \n",
      " 1   latitude         7717 non-null   float64\n",
      " 2   longitude        7717 non-null   float64\n",
      " 3   depth            7717 non-null   float64\n",
      " 4   mag              7717 non-null   float64\n",
      " 5   magType          7717 non-null   object \n",
      " 6   gap              7717 non-null   float64\n",
      " 7   dmin             7717 non-null   float64\n",
      " 8   rms              7717 non-null   float64\n",
      " 9   net              7717 non-null   object \n",
      " 10  id               7717 non-null   object \n",
      " 11  updated          7717 non-null   object \n",
      " 12  place            7717 non-null   object \n",
      " 13  type             7717 non-null   object \n",
      " 14  horizontalError  7717 non-null   float64\n",
      " 15  depthError       7717 non-null   float64\n",
      " 16  magError         7717 non-null   float64\n",
      " 17  magNst           7717 non-null   float64\n",
      " 18  status           7717 non-null   object \n",
      " 19  locationSource   7717 non-null   object \n",
      " 20  magSource        7717 non-null   object \n",
      " 21  Alert            7717 non-null   object \n",
      "dtypes: float64(11), object(11)\n",
      "memory usage: 1.3+ MB\n"
     ]
    }
   ],
   "source": [
    "df.info()"
   ]
  },
  {
   "cell_type": "code",
   "execution_count": 23,
   "metadata": {},
   "outputs": [],
   "source": [
    "missing_col = df.columns[df.isnull().sum() > 0]\n",
    "\n",
    "\n",
    "for col in missing_col:\n",
    "    if df[col].dtype == 'object':  #  (object type)\n",
    "        df[col].fillna(df[col].mode()[0], inplace=True)\n",
    "    else:  # numerical\n",
    "        df[col].fillna(df[col].mean(), inplace=True)\n"
   ]
  },
  {
   "cell_type": "markdown",
   "metadata": {},
   "source": [
    "pythonda vazifalar"
   ]
  },
  {
   "cell_type": "code",
   "execution_count": null,
   "metadata": {},
   "outputs": [],
   "source": []
  },
  {
   "cell_type": "code",
   "execution_count": null,
   "metadata": {},
   "outputs": [],
   "source": []
  },
  {
   "cell_type": "code",
   "execution_count": null,
   "metadata": {},
   "outputs": [],
   "source": []
  },
  {
   "cell_type": "code",
   "execution_count": null,
   "metadata": {},
   "outputs": [],
   "source": []
  },
  {
   "cell_type": "code",
   "execution_count": null,
   "metadata": {},
   "outputs": [],
   "source": []
  }
 ],
 "metadata": {
  "kernelspec": {
   "display_name": "Python 3",
   "language": "python",
   "name": "python3"
  },
  "language_info": {
   "codemirror_mode": {
    "name": "ipython",
    "version": 3
   },
   "file_extension": ".py",
   "mimetype": "text/x-python",
   "name": "python",
   "nbconvert_exporter": "python",
   "pygments_lexer": "ipython3",
   "version": "3.12.3"
  }
 },
 "nbformat": 4,
 "nbformat_minor": 2
}
